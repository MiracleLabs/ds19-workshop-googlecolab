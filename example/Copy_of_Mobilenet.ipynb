{
  "nbformat": 4,
  "nbformat_minor": 0,
  "metadata": {
    "colab": {
      "name": "Copy of Mobilenet.ipynb",
      "provenance": [],
      "collapsed_sections": []
    },
    "kernelspec": {
      "name": "python3",
      "display_name": "Python 3"
    },
    "accelerator": "GPU"
  },
  "cells": [
    {
      "cell_type": "code",
      "metadata": {
        "id": "tdryNC48v8kB",
        "colab_type": "code",
        "outputId": "f2a7dadf-c02f-458f-c5bd-17746b9fc430",
        "colab": {
          "base_uri": "https://localhost:8080/",
          "height": 118
        }
      },
      "source": [
        "!git clone https://github.com/ammu11/DS19-DamageCarClassification"
      ],
      "execution_count": 0,
      "outputs": [
        {
          "output_type": "stream",
          "text": [
            "Cloning into 'DS19-DamageCarClassification'...\n",
            "remote: Enumerating objects: 1790, done.\u001b[K\n",
            "remote: Total 1790 (delta 0), reused 0 (delta 0), pack-reused 1790\u001b[K\n",
            "Receiving objects: 100% (1790/1790), 184.24 MiB | 34.72 MiB/s, done.\n",
            "Resolving deltas: 100% (6/6), done.\n",
            "Checking out files: 100% (1704/1704), done.\n"
          ],
          "name": "stdout"
        }
      ]
    },
    {
      "cell_type": "markdown",
      "metadata": {
        "id": "BBAF5jne7s0q",
        "colab_type": "text"
      },
      "source": [
        ""
      ]
    },
    {
      "cell_type": "code",
      "metadata": {
        "id": "kAJjiSewjNMb",
        "colab_type": "code",
        "outputId": "e5143be0-592c-4bbb-81d5-0d9b6aac8d37",
        "colab": {
          "base_uri": "https://localhost:8080/",
          "height": 79
        }
      },
      "source": [
        "import keras\n",
        "import os\n",
        "from keras.callbacks import ModelCheckpoint\n",
        "from keras import backend as K\n",
        "from keras.layers.core import Dense, Activation\n",
        "from keras.optimizers import Adam\n",
        "from keras.metrics import categorical_crossentropy\n",
        "from keras.preprocessing.image import ImageDataGenerator\n",
        "from keras.preprocessing import image\n",
        "from keras.models import Model\n",
        "from keras.applications import imagenet_utils\n",
        "from keras import regularizers\n",
        "from keras.layers import Dense,GlobalAveragePooling2D, Dropout\n",
        "from keras.applications import MobileNet\n",
        "from keras.applications.mobilenet import preprocess_input\n",
        "import numpy as np\n",
        "from IPython.display import Image\n",
        "from keras.optimizers import Adam\n",
        "import os.path as osp\n",
        "import argparse\n",
        "import tensorflow as tf\n",
        "from keras.models import load_model"
      ],
      "execution_count": 0,
      "outputs": [
        {
          "output_type": "stream",
          "text": [
            "Using TensorFlow backend.\n"
          ],
          "name": "stderr"
        },
        {
          "output_type": "display_data",
          "data": {
            "text/html": [
              "<p style=\"color: red;\">\n",
              "The default version of TensorFlow in Colab will soon switch to TensorFlow 2.x.<br>\n",
              "We recommend you <a href=\"https://www.tensorflow.org/guide/migrate\" target=\"_blank\">upgrade</a> now \n",
              "or ensure your notebook will continue to use TensorFlow 1.x via the <code>%tensorflow_version 1.x</code> magic:\n",
              "<a href=\"https://colab.research.google.com/notebooks/tensorflow_version.ipynb\" target=\"_blank\">more info</a>.</p>\n"
            ],
            "text/plain": [
              "<IPython.core.display.HTML object>"
            ]
          },
          "metadata": {
            "tags": []
          }
        }
      ]
    },
    {
      "cell_type": "code",
      "metadata": {
        "id": "zE6N0P36jkim",
        "colab_type": "code",
        "colab": {}
      },
      "source": [
        "train_dir = \"/content/DS19-DamageCarClassification/training\"\n",
        "test_dir = \"/content/DS19-DamageCarClassification/testing\""
      ],
      "execution_count": 0,
      "outputs": []
    },
    {
      "cell_type": "code",
      "metadata": {
        "id": "2sn3yXiAjvz4",
        "colab_type": "code",
        "outputId": "19aa0327-4e06-44ef-e510-919a3e8cd37c",
        "colab": {
          "base_uri": "https://localhost:8080/",
          "height": 474
        }
      },
      "source": [
        "base_model=MobileNet(weights='imagenet',include_top=False) \n",
        "x=base_model.output\n",
        "x=GlobalAveragePooling2D()(x)\n",
        "x=Dense(1024,activation='relu', kernel_regularizer=regularizers.l2(0.001))(x)\n",
        "x=Dense(512,activation='relu', kernel_regularizer=regularizers.l2(0.001))(x)\n",
        "preds=Dense(3,activation='softmax', kernel_regularizer=regularizers.l2(0.001))(x) "
      ],
      "execution_count": 0,
      "outputs": [
        {
          "output_type": "stream",
          "text": [
            "WARNING:tensorflow:From /usr/local/lib/python3.6/dist-packages/keras/backend/tensorflow_backend.py:66: The name tf.get_default_graph is deprecated. Please use tf.compat.v1.get_default_graph instead.\n",
            "\n",
            "WARNING:tensorflow:From /usr/local/lib/python3.6/dist-packages/keras/backend/tensorflow_backend.py:541: The name tf.placeholder is deprecated. Please use tf.compat.v1.placeholder instead.\n",
            "\n",
            "WARNING:tensorflow:From /usr/local/lib/python3.6/dist-packages/keras/backend/tensorflow_backend.py:4432: The name tf.random_uniform is deprecated. Please use tf.random.uniform instead.\n",
            "\n",
            "WARNING:tensorflow:From /usr/local/lib/python3.6/dist-packages/keras/backend/tensorflow_backend.py:190: The name tf.get_default_session is deprecated. Please use tf.compat.v1.get_default_session instead.\n",
            "\n",
            "WARNING:tensorflow:From /usr/local/lib/python3.6/dist-packages/keras/backend/tensorflow_backend.py:197: The name tf.ConfigProto is deprecated. Please use tf.compat.v1.ConfigProto instead.\n",
            "\n",
            "WARNING:tensorflow:From /usr/local/lib/python3.6/dist-packages/keras/backend/tensorflow_backend.py:203: The name tf.Session is deprecated. Please use tf.compat.v1.Session instead.\n",
            "\n"
          ],
          "name": "stdout"
        },
        {
          "output_type": "stream",
          "text": [
            "/usr/local/lib/python3.6/dist-packages/keras_applications/mobilenet.py:207: UserWarning: `input_shape` is undefined or non-square, or `rows` is not in [128, 160, 192, 224]. Weights for input shape (224, 224) will be loaded as the default.\n",
            "  warnings.warn('`input_shape` is undefined or non-square, '\n"
          ],
          "name": "stderr"
        },
        {
          "output_type": "stream",
          "text": [
            "WARNING:tensorflow:From /usr/local/lib/python3.6/dist-packages/keras/backend/tensorflow_backend.py:207: The name tf.global_variables is deprecated. Please use tf.compat.v1.global_variables instead.\n",
            "\n",
            "WARNING:tensorflow:From /usr/local/lib/python3.6/dist-packages/keras/backend/tensorflow_backend.py:216: The name tf.is_variable_initialized is deprecated. Please use tf.compat.v1.is_variable_initialized instead.\n",
            "\n",
            "WARNING:tensorflow:From /usr/local/lib/python3.6/dist-packages/keras/backend/tensorflow_backend.py:223: The name tf.variables_initializer is deprecated. Please use tf.compat.v1.variables_initializer instead.\n",
            "\n",
            "WARNING:tensorflow:From /usr/local/lib/python3.6/dist-packages/keras/backend/tensorflow_backend.py:2041: The name tf.nn.fused_batch_norm is deprecated. Please use tf.compat.v1.nn.fused_batch_norm instead.\n",
            "\n",
            "WARNING:tensorflow:From /usr/local/lib/python3.6/dist-packages/keras/backend/tensorflow_backend.py:148: The name tf.placeholder_with_default is deprecated. Please use tf.compat.v1.placeholder_with_default instead.\n",
            "\n",
            "Downloading data from https://github.com/fchollet/deep-learning-models/releases/download/v0.6/mobilenet_1_0_224_tf_no_top.h5\n",
            "17227776/17225924 [==============================] - 1s 0us/step\n"
          ],
          "name": "stdout"
        }
      ]
    },
    {
      "cell_type": "code",
      "metadata": {
        "id": "V-m6ye1cj8RQ",
        "colab_type": "code",
        "colab": {}
      },
      "source": [
        "model=Model(inputs=base_model.input,outputs=preds)"
      ],
      "execution_count": 0,
      "outputs": []
    },
    {
      "cell_type": "code",
      "metadata": {
        "id": "UybH90G4kjTQ",
        "colab_type": "code",
        "colab": {}
      },
      "source": [
        "for layer in model.layers[:20]:\n",
        "  layer.trainable=False\n",
        "for layer in model.layers[20:]:\n",
        "  layer.trainable=True"
      ],
      "execution_count": 0,
      "outputs": []
    },
    {
      "cell_type": "code",
      "metadata": {
        "id": "g2b7SfRBknTq",
        "colab_type": "code",
        "outputId": "a45fd93a-de39-4039-8598-c773a0ad7e0f",
        "colab": {
          "base_uri": "https://localhost:8080/",
          "height": 50
        }
      },
      "source": [
        "img_width, img_height = 224, 224\n",
        "epochs = 200\n",
        "batch_size = 32\n",
        "train_datagen = ImageDataGenerator(rescale=1. / 255)\n",
        "test_datagen = ImageDataGenerator(rescale=1. / 255)\n",
        "train_generator = train_datagen.flow_from_directory(\n",
        "    train_dir,\n",
        "    target_size=(img_width, img_height),\n",
        "    batch_size=batch_size,\n",
        "    class_mode='categorical')\n",
        "validation_generator = train_datagen.flow_from_directory(\n",
        "    test_dir,\n",
        "    target_size=(img_width, img_height),\n",
        "    batch_size=batch_size,\n",
        "    class_mode='categorical')"
      ],
      "execution_count": 0,
      "outputs": [
        {
          "output_type": "stream",
          "text": [
            "Found 1366 images belonging to 3 classes.\n",
            "Found 336 images belonging to 3 classes.\n"
          ],
          "name": "stdout"
        }
      ]
    },
    {
      "cell_type": "code",
      "metadata": {
        "id": "UWU2INEemTCX",
        "colab_type": "code",
        "colab": {}
      },
      "source": [
        "savepath = os.path.join( \"\"+ 'checkpoint-{epoch:03d}.h5' )\n",
        "checkpointer = ModelCheckpoint(filepath=savepath,monitor='val_acc', mode='max', verbose=0, save_best_only=True)"
      ],
      "execution_count": 0,
      "outputs": []
    },
    {
      "cell_type": "code",
      "metadata": {
        "id": "JeNJvOfXmYBv",
        "colab_type": "code",
        "outputId": "bc7bed52-0403-4534-ca75-b4e3e129c54c",
        "colab": {
          "base_uri": "https://localhost:8080/",
          "height": 1000
        }
      },
      "source": [
        "model.compile(optimizer='Adam',loss='categorical_crossentropy',metrics=['accuracy'])\n",
        "history=model.fit_generator(\n",
        "        train_generator,\n",
        "        steps_per_epoch=train_generator.samples // batch_size,\n",
        "        epochs=epochs,\n",
        "        validation_data=validation_generator,\n",
        "        validation_steps=validation_generator.samples // batch_size,\n",
        "        callbacks=[checkpointer])"
      ],
      "execution_count": 0,
      "outputs": [
        {
          "output_type": "stream",
          "text": [
            "WARNING:tensorflow:From /usr/local/lib/python3.6/dist-packages/keras/optimizers.py:793: The name tf.train.Optimizer is deprecated. Please use tf.compat.v1.train.Optimizer instead.\n",
            "\n",
            "WARNING:tensorflow:From /usr/local/lib/python3.6/dist-packages/keras/backend/tensorflow_backend.py:3576: The name tf.log is deprecated. Please use tf.math.log instead.\n",
            "\n",
            "WARNING:tensorflow:From /usr/local/lib/python3.6/dist-packages/tensorflow_core/python/ops/math_grad.py:1424: where (from tensorflow.python.ops.array_ops) is deprecated and will be removed in a future version.\n",
            "Instructions for updating:\n",
            "Use tf.where in 2.0, which has the same broadcast rule as np.where\n",
            "WARNING:tensorflow:From /usr/local/lib/python3.6/dist-packages/keras/backend/tensorflow_backend.py:1033: The name tf.assign_add is deprecated. Please use tf.compat.v1.assign_add instead.\n",
            "\n",
            "WARNING:tensorflow:From /usr/local/lib/python3.6/dist-packages/keras/backend/tensorflow_backend.py:1020: The name tf.assign is deprecated. Please use tf.compat.v1.assign instead.\n",
            "\n",
            "Epoch 1/200\n",
            "18/42 [===========>..................] - ETA: 16s - loss: 2.6544 - acc: 0.6679"
          ],
          "name": "stdout"
        },
        {
          "output_type": "stream",
          "text": [
            "/usr/local/lib/python3.6/dist-packages/PIL/Image.py:914: UserWarning: Palette images with Transparency   expressed in bytes should be converted to RGBA images\n",
            "  'to RGBA images')\n"
          ],
          "name": "stderr"
        },
        {
          "output_type": "stream",
          "text": [
            "42/42 [==============================] - 18s 428ms/step - loss: 2.1909 - acc: 0.7870 - val_loss: 3.5860 - val_acc: 0.5781\n",
            "Epoch 2/200\n",
            "42/42 [==============================] - 12s 297ms/step - loss: 1.4499 - acc: 0.9416 - val_loss: 2.1097 - val_acc: 0.8059\n",
            "Epoch 3/200\n",
            "42/42 [==============================] - 12s 283ms/step - loss: 1.2379 - acc: 0.9353 - val_loss: 2.1219 - val_acc: 0.7928\n",
            "Epoch 4/200\n",
            "42/42 [==============================] - 12s 292ms/step - loss: 0.9910 - acc: 0.9692 - val_loss: 1.7288 - val_acc: 0.8059\n",
            "Epoch 5/200\n",
            "42/42 [==============================] - 12s 287ms/step - loss: 0.8190 - acc: 0.9799 - val_loss: 2.7462 - val_acc: 0.7138\n",
            "Epoch 6/200\n",
            "42/42 [==============================] - 12s 284ms/step - loss: 0.7760 - acc: 0.9562 - val_loss: 1.3138 - val_acc: 0.7829\n",
            "Epoch 7/200\n",
            "42/42 [==============================] - 11s 272ms/step - loss: 0.6125 - acc: 0.9785 - val_loss: 1.0688 - val_acc: 0.8125\n",
            "Epoch 8/200\n",
            "42/42 [==============================] - 11s 265ms/step - loss: 0.5185 - acc: 0.9814 - val_loss: 1.1680 - val_acc: 0.8289\n",
            "Epoch 9/200\n",
            "42/42 [==============================] - 10s 250ms/step - loss: 0.4567 - acc: 0.9799 - val_loss: 1.1827 - val_acc: 0.8257\n",
            "Epoch 10/200\n",
            "42/42 [==============================] - 11s 258ms/step - loss: 0.3879 - acc: 0.9848 - val_loss: 0.8292 - val_acc: 0.8586\n",
            "Epoch 11/200\n",
            "42/42 [==============================] - 12s 277ms/step - loss: 0.3406 - acc: 0.9844 - val_loss: 1.0830 - val_acc: 0.7928\n",
            "Epoch 12/200\n",
            "42/42 [==============================] - 11s 260ms/step - loss: 0.2854 - acc: 0.9855 - val_loss: 1.0778 - val_acc: 0.8250\n",
            "Epoch 13/200\n",
            "42/42 [==============================] - 14s 322ms/step - loss: 0.2880 - acc: 0.9744 - val_loss: 2.5538 - val_acc: 0.6579\n",
            "Epoch 14/200\n",
            "42/42 [==============================] - 12s 280ms/step - loss: 0.2658 - acc: 0.9747 - val_loss: 1.4095 - val_acc: 0.7730\n",
            "Epoch 15/200\n",
            "42/42 [==============================] - 11s 260ms/step - loss: 0.2194 - acc: 0.9818 - val_loss: 3.9956 - val_acc: 0.5066\n",
            "Epoch 16/200\n",
            "42/42 [==============================] - 12s 283ms/step - loss: 0.1638 - acc: 0.9933 - val_loss: 1.9845 - val_acc: 0.7138\n",
            "Epoch 17/200\n",
            "42/42 [==============================] - 10s 248ms/step - loss: 0.1582 - acc: 0.9918 - val_loss: 1.6077 - val_acc: 0.7303\n",
            "Epoch 18/200\n",
            "42/42 [==============================] - 10s 231ms/step - loss: 0.1188 - acc: 0.9978 - val_loss: 1.2197 - val_acc: 0.7763\n",
            "Epoch 19/200\n",
            "42/42 [==============================] - 12s 277ms/step - loss: 0.1086 - acc: 0.9940 - val_loss: 1.0230 - val_acc: 0.8092\n",
            "Epoch 20/200\n",
            "42/42 [==============================] - 11s 263ms/step - loss: 0.1383 - acc: 0.9844 - val_loss: 1.3256 - val_acc: 0.6283\n",
            "Epoch 21/200\n",
            "42/42 [==============================] - 11s 269ms/step - loss: 0.1275 - acc: 0.9837 - val_loss: 0.8583 - val_acc: 0.7862\n",
            "Epoch 22/200\n",
            "42/42 [==============================] - 10s 242ms/step - loss: 0.1421 - acc: 0.9740 - val_loss: 2.7273 - val_acc: 0.6480\n",
            "Epoch 23/200\n",
            "42/42 [==============================] - 11s 255ms/step - loss: 0.1188 - acc: 0.9836 - val_loss: 0.7900 - val_acc: 0.8438\n",
            "Epoch 24/200\n",
            "42/42 [==============================] - 13s 312ms/step - loss: 0.0893 - acc: 0.9867 - val_loss: 0.8285 - val_acc: 0.8191\n",
            "Epoch 25/200\n",
            "42/42 [==============================] - 12s 276ms/step - loss: 0.1137 - acc: 0.9836 - val_loss: 0.5255 - val_acc: 0.8849\n",
            "Epoch 26/200\n",
            "42/42 [==============================] - 11s 255ms/step - loss: 0.0877 - acc: 0.9855 - val_loss: 1.4244 - val_acc: 0.8026\n",
            "Epoch 27/200\n",
            "42/42 [==============================] - 12s 280ms/step - loss: 0.0876 - acc: 0.9844 - val_loss: 4.4017 - val_acc: 0.5428\n",
            "Epoch 28/200\n",
            "42/42 [==============================] - 10s 246ms/step - loss: 0.1086 - acc: 0.9818 - val_loss: 1.0916 - val_acc: 0.7862\n",
            "Epoch 29/200\n",
            "42/42 [==============================] - 11s 252ms/step - loss: 0.1106 - acc: 0.9793 - val_loss: 1.2808 - val_acc: 0.7204\n",
            "Epoch 30/200\n",
            "42/42 [==============================] - 11s 267ms/step - loss: 0.0831 - acc: 0.9829 - val_loss: 0.7847 - val_acc: 0.8224\n",
            "Epoch 31/200\n",
            "42/42 [==============================] - 11s 267ms/step - loss: 0.0589 - acc: 0.9926 - val_loss: 1.0866 - val_acc: 0.8092\n",
            "Epoch 32/200\n",
            "42/42 [==============================] - 11s 263ms/step - loss: 0.0440 - acc: 0.9948 - val_loss: 0.5886 - val_acc: 0.8849\n",
            "Epoch 33/200\n",
            "42/42 [==============================] - 11s 258ms/step - loss: 0.0598 - acc: 0.9918 - val_loss: 1.0461 - val_acc: 0.7928\n",
            "Epoch 34/200\n",
            "42/42 [==============================] - 12s 281ms/step - loss: 0.0281 - acc: 1.0000 - val_loss: 0.9500 - val_acc: 0.8438\n",
            "Epoch 35/200\n",
            "42/42 [==============================] - 14s 328ms/step - loss: 0.0262 - acc: 0.9985 - val_loss: 1.0269 - val_acc: 0.8355\n",
            "Epoch 36/200\n",
            "42/42 [==============================] - 11s 262ms/step - loss: 0.0453 - acc: 0.9918 - val_loss: 0.9633 - val_acc: 0.7862\n",
            "Epoch 37/200\n",
            "42/42 [==============================] - 11s 270ms/step - loss: 0.0687 - acc: 0.9873 - val_loss: 1.4610 - val_acc: 0.7237\n",
            "Epoch 38/200\n",
            "42/42 [==============================] - 11s 255ms/step - loss: 0.0397 - acc: 0.9940 - val_loss: 0.5003 - val_acc: 0.8454\n",
            "Epoch 39/200\n",
            "42/42 [==============================] - 11s 270ms/step - loss: 0.0232 - acc: 0.9985 - val_loss: 0.7168 - val_acc: 0.8586\n",
            "Epoch 40/200\n",
            "42/42 [==============================] - 11s 262ms/step - loss: 0.0463 - acc: 0.9911 - val_loss: 0.6502 - val_acc: 0.8092\n",
            "Epoch 41/200\n",
            "42/42 [==============================] - 12s 275ms/step - loss: 0.0747 - acc: 0.9814 - val_loss: 0.5308 - val_acc: 0.8750\n",
            "Epoch 42/200\n",
            "42/42 [==============================] - 11s 252ms/step - loss: 0.0491 - acc: 0.9882 - val_loss: 0.5339 - val_acc: 0.8816\n",
            "Epoch 43/200\n",
            "42/42 [==============================] - 10s 249ms/step - loss: 0.0361 - acc: 0.9940 - val_loss: 0.8835 - val_acc: 0.8224\n",
            "Epoch 44/200\n",
            "42/42 [==============================] - 11s 257ms/step - loss: 0.0422 - acc: 0.9888 - val_loss: 1.6165 - val_acc: 0.7105\n",
            "Epoch 45/200\n",
            "42/42 [==============================] - 11s 272ms/step - loss: 0.0517 - acc: 0.9896 - val_loss: 0.8035 - val_acc: 0.8063\n",
            "Epoch 46/200\n",
            "42/42 [==============================] - 12s 286ms/step - loss: 0.0556 - acc: 0.9866 - val_loss: 1.4461 - val_acc: 0.7336\n",
            "Epoch 47/200\n",
            "42/42 [==============================] - 12s 274ms/step - loss: 0.0309 - acc: 0.9955 - val_loss: 0.7392 - val_acc: 0.8783\n",
            "Epoch 48/200\n",
            "42/42 [==============================] - 12s 287ms/step - loss: 0.0548 - acc: 0.9888 - val_loss: 0.4934 - val_acc: 0.8717\n",
            "Epoch 49/200\n",
            "42/42 [==============================] - 11s 260ms/step - loss: 0.0270 - acc: 0.9948 - val_loss: 0.8387 - val_acc: 0.8487\n",
            "Epoch 50/200\n",
            "42/42 [==============================] - 12s 274ms/step - loss: 0.0151 - acc: 0.9993 - val_loss: 0.5555 - val_acc: 0.8849\n",
            "Epoch 51/200\n",
            "42/42 [==============================] - 11s 274ms/step - loss: 0.0146 - acc: 0.9993 - val_loss: 0.5277 - val_acc: 0.8816\n",
            "Epoch 52/200\n",
            "42/42 [==============================] - 10s 241ms/step - loss: 0.0183 - acc: 0.9963 - val_loss: 0.7501 - val_acc: 0.8421\n",
            "Epoch 53/200\n",
            "42/42 [==============================] - 11s 250ms/step - loss: 0.0278 - acc: 0.9933 - val_loss: 0.7372 - val_acc: 0.7664\n",
            "Epoch 54/200\n",
            "42/42 [==============================] - 11s 266ms/step - loss: 0.0146 - acc: 1.0000 - val_loss: 0.9005 - val_acc: 0.8322\n",
            "Epoch 55/200\n",
            "42/42 [==============================] - 11s 252ms/step - loss: 0.0128 - acc: 0.9993 - val_loss: 0.5819 - val_acc: 0.8421\n",
            "Epoch 56/200\n",
            "42/42 [==============================] - 12s 283ms/step - loss: 0.0479 - acc: 0.9888 - val_loss: 0.7826 - val_acc: 0.8000\n",
            "Epoch 57/200\n",
            "42/42 [==============================] - 11s 273ms/step - loss: 0.0421 - acc: 0.9903 - val_loss: 1.1995 - val_acc: 0.7007\n",
            "Epoch 58/200\n",
            "42/42 [==============================] - 12s 286ms/step - loss: 0.0699 - acc: 0.9796 - val_loss: 1.5178 - val_acc: 0.7500\n",
            "Epoch 59/200\n",
            "42/42 [==============================] - 11s 260ms/step - loss: 0.0342 - acc: 0.9940 - val_loss: 2.0429 - val_acc: 0.7204\n",
            "Epoch 60/200\n",
            "42/42 [==============================] - 11s 269ms/step - loss: 0.0335 - acc: 0.9940 - val_loss: 0.8390 - val_acc: 0.8257\n",
            "Epoch 61/200\n",
            "42/42 [==============================] - 10s 234ms/step - loss: 0.0698 - acc: 0.9829 - val_loss: 0.8181 - val_acc: 0.8322\n",
            "Epoch 62/200\n",
            "42/42 [==============================] - 11s 267ms/step - loss: 0.0415 - acc: 0.9903 - val_loss: 0.7263 - val_acc: 0.8322\n",
            "Epoch 63/200\n",
            "42/42 [==============================] - 11s 255ms/step - loss: 0.0344 - acc: 0.9948 - val_loss: 0.7627 - val_acc: 0.8059\n",
            "Epoch 64/200\n",
            "42/42 [==============================] - 11s 263ms/step - loss: 0.0132 - acc: 0.9993 - val_loss: 0.7635 - val_acc: 0.8092\n",
            "Epoch 65/200\n",
            "42/42 [==============================] - 11s 262ms/step - loss: 0.0432 - acc: 0.9900 - val_loss: 2.2490 - val_acc: 0.6711\n",
            "Epoch 66/200\n",
            "42/42 [==============================] - 10s 233ms/step - loss: 0.0326 - acc: 0.9900 - val_loss: 1.0948 - val_acc: 0.7566\n",
            "Epoch 67/200\n",
            "42/42 [==============================] - 11s 265ms/step - loss: 0.0189 - acc: 0.9963 - val_loss: 0.7398 - val_acc: 0.8594\n",
            "Epoch 68/200\n",
            "42/42 [==============================] - 13s 305ms/step - loss: 0.0155 - acc: 0.9978 - val_loss: 0.6291 - val_acc: 0.8717\n",
            "Epoch 69/200\n",
            "42/42 [==============================] - 11s 271ms/step - loss: 0.0247 - acc: 0.9933 - val_loss: 0.8911 - val_acc: 0.8092\n",
            "Epoch 70/200\n",
            "42/42 [==============================] - 11s 272ms/step - loss: 0.0228 - acc: 0.9970 - val_loss: 0.5541 - val_acc: 0.8717\n",
            "Epoch 71/200\n",
            "42/42 [==============================] - 10s 234ms/step - loss: 0.0213 - acc: 0.9978 - val_loss: 1.0497 - val_acc: 0.7664\n",
            "Epoch 72/200\n",
            "42/42 [==============================] - 10s 248ms/step - loss: 0.0132 - acc: 0.9985 - val_loss: 1.0119 - val_acc: 0.8158\n",
            "Epoch 73/200\n",
            "42/42 [==============================] - 11s 268ms/step - loss: 0.0205 - acc: 0.9955 - val_loss: 0.7012 - val_acc: 0.8586\n",
            "Epoch 74/200\n",
            "42/42 [==============================] - 11s 258ms/step - loss: 0.0108 - acc: 0.9993 - val_loss: 0.7479 - val_acc: 0.8224\n",
            "Epoch 75/200\n",
            "42/42 [==============================] - 10s 230ms/step - loss: 0.0132 - acc: 0.9970 - val_loss: 1.0728 - val_acc: 0.8092\n",
            "Epoch 76/200\n",
            "42/42 [==============================] - 12s 274ms/step - loss: 0.0243 - acc: 0.9963 - val_loss: 0.8288 - val_acc: 0.8125\n",
            "Epoch 77/200\n",
            "42/42 [==============================] - 10s 235ms/step - loss: 0.0298 - acc: 0.9963 - val_loss: 1.1648 - val_acc: 0.7763\n",
            "Epoch 78/200\n",
            "42/42 [==============================] - 11s 270ms/step - loss: 0.0500 - acc: 0.9926 - val_loss: 1.3038 - val_acc: 0.6406\n",
            "Epoch 79/200\n",
            "42/42 [==============================] - 13s 302ms/step - loss: 0.0483 - acc: 0.9873 - val_loss: 0.8302 - val_acc: 0.8059\n",
            "Epoch 80/200\n",
            "42/42 [==============================] - 12s 274ms/step - loss: 0.0205 - acc: 0.9970 - val_loss: 1.0706 - val_acc: 0.8191\n",
            "Epoch 81/200\n",
            "42/42 [==============================] - 11s 257ms/step - loss: 0.0267 - acc: 0.9963 - val_loss: 1.1800 - val_acc: 0.7796\n",
            "Epoch 82/200\n",
            "42/42 [==============================] - 11s 262ms/step - loss: 0.0131 - acc: 0.9993 - val_loss: 0.8538 - val_acc: 0.8322\n",
            "Epoch 83/200\n",
            "42/42 [==============================] - 10s 243ms/step - loss: 0.0219 - acc: 0.9970 - val_loss: 1.1510 - val_acc: 0.8059\n",
            "Epoch 84/200\n",
            "42/42 [==============================] - 11s 270ms/step - loss: 0.0131 - acc: 0.9970 - val_loss: 1.0012 - val_acc: 0.7961\n",
            "Epoch 85/200\n",
            "42/42 [==============================] - 10s 248ms/step - loss: 0.0109 - acc: 0.9993 - val_loss: 1.2059 - val_acc: 0.7697\n",
            "Epoch 86/200\n",
            "42/42 [==============================] - 10s 245ms/step - loss: 0.0101 - acc: 0.9993 - val_loss: 0.9893 - val_acc: 0.8355\n",
            "Epoch 87/200\n",
            "42/42 [==============================] - 10s 249ms/step - loss: 0.0093 - acc: 1.0000 - val_loss: 1.6196 - val_acc: 0.6974\n",
            "Epoch 88/200\n",
            "42/42 [==============================] - 11s 254ms/step - loss: 0.0161 - acc: 0.9978 - val_loss: 1.6725 - val_acc: 0.7039\n",
            "Epoch 89/200\n",
            "42/42 [==============================] - 11s 273ms/step - loss: 0.0281 - acc: 0.9948 - val_loss: 1.9665 - val_acc: 0.6625\n",
            "Epoch 90/200\n",
            "42/42 [==============================] - 12s 287ms/step - loss: 0.0108 - acc: 0.9985 - val_loss: 1.3508 - val_acc: 0.7500\n",
            "Epoch 91/200\n",
            "42/42 [==============================] - 11s 270ms/step - loss: 0.0112 - acc: 0.9978 - val_loss: 0.8382 - val_acc: 0.8125\n",
            "Epoch 92/200\n",
            "42/42 [==============================] - 12s 284ms/step - loss: 0.0117 - acc: 0.9985 - val_loss: 1.3454 - val_acc: 0.7434\n",
            "Epoch 93/200\n",
            "42/42 [==============================] - 11s 267ms/step - loss: 0.0152 - acc: 0.9970 - val_loss: 2.0618 - val_acc: 0.6875\n",
            "Epoch 94/200\n",
            "42/42 [==============================] - 11s 261ms/step - loss: 0.1146 - acc: 0.9740 - val_loss: 1.0330 - val_acc: 0.7237\n",
            "Epoch 95/200\n",
            "42/42 [==============================] - 11s 254ms/step - loss: 0.0751 - acc: 0.9766 - val_loss: 1.5216 - val_acc: 0.7237\n",
            "Epoch 96/200\n",
            "42/42 [==============================] - 12s 280ms/step - loss: 0.0519 - acc: 0.9866 - val_loss: 1.9646 - val_acc: 0.6908\n",
            "Epoch 97/200\n",
            "42/42 [==============================] - 10s 237ms/step - loss: 0.0178 - acc: 0.9978 - val_loss: 1.1936 - val_acc: 0.7895\n",
            "Epoch 98/200\n",
            "42/42 [==============================] - 10s 245ms/step - loss: 0.0144 - acc: 0.9982 - val_loss: 1.0804 - val_acc: 0.8092\n",
            "Epoch 99/200\n",
            "42/42 [==============================] - 11s 251ms/step - loss: 0.0257 - acc: 0.9955 - val_loss: 1.0181 - val_acc: 0.8191\n",
            "Epoch 100/200\n",
            "42/42 [==============================] - 10s 248ms/step - loss: 0.0121 - acc: 0.9993 - val_loss: 1.2003 - val_acc: 0.8031\n",
            "Epoch 101/200\n",
            "42/42 [==============================] - 13s 317ms/step - loss: 0.0197 - acc: 0.9955 - val_loss: 1.0613 - val_acc: 0.8158\n",
            "Epoch 102/200\n",
            "42/42 [==============================] - 11s 270ms/step - loss: 0.0271 - acc: 0.9940 - val_loss: 1.1660 - val_acc: 0.7632\n",
            "Epoch 103/200\n",
            "42/42 [==============================] - 11s 255ms/step - loss: 0.0353 - acc: 0.9926 - val_loss: 1.0085 - val_acc: 0.8092\n",
            "Epoch 104/200\n",
            "42/42 [==============================] - 11s 264ms/step - loss: 0.0342 - acc: 0.9911 - val_loss: 0.8907 - val_acc: 0.7961\n",
            "Epoch 105/200\n",
            "42/42 [==============================] - 11s 265ms/step - loss: 0.0325 - acc: 0.9915 - val_loss: 0.5740 - val_acc: 0.8651\n",
            "Epoch 106/200\n",
            "42/42 [==============================] - 9s 219ms/step - loss: 0.0479 - acc: 0.9859 - val_loss: 1.0288 - val_acc: 0.7566\n",
            "Epoch 107/200\n",
            "42/42 [==============================] - 12s 274ms/step - loss: 0.0210 - acc: 0.9970 - val_loss: 0.7852 - val_acc: 0.8224\n",
            "Epoch 108/200\n",
            "42/42 [==============================] - 10s 235ms/step - loss: 0.0117 - acc: 0.9985 - val_loss: 0.7833 - val_acc: 0.8191\n",
            "Epoch 109/200\n",
            "42/42 [==============================] - 11s 268ms/step - loss: 0.0119 - acc: 0.9993 - val_loss: 1.1562 - val_acc: 0.7895\n",
            "Epoch 110/200\n",
            "42/42 [==============================] - 10s 236ms/step - loss: 0.0151 - acc: 0.9974 - val_loss: 0.9247 - val_acc: 0.7993\n",
            "Epoch 111/200\n",
            "42/42 [==============================] - 12s 285ms/step - loss: 0.0291 - acc: 0.9940 - val_loss: 1.0061 - val_acc: 0.8000\n",
            "Epoch 112/200\n",
            "42/42 [==============================] - 12s 297ms/step - loss: 0.0180 - acc: 0.9970 - val_loss: 1.2134 - val_acc: 0.7928\n",
            "Epoch 113/200\n",
            "42/42 [==============================] - 11s 255ms/step - loss: 0.0300 - acc: 0.9933 - val_loss: 1.6257 - val_acc: 0.6612\n",
            "Epoch 114/200\n",
            "42/42 [==============================] - 11s 269ms/step - loss: 0.0316 - acc: 0.9933 - val_loss: 0.9994 - val_acc: 0.7336\n",
            "Epoch 115/200\n",
            "42/42 [==============================] - 10s 248ms/step - loss: 0.0146 - acc: 0.9978 - val_loss: 0.8317 - val_acc: 0.7763\n",
            "Epoch 116/200\n",
            "42/42 [==============================] - 11s 270ms/step - loss: 0.0191 - acc: 0.9970 - val_loss: 0.7029 - val_acc: 0.7961\n",
            "Epoch 117/200\n",
            "42/42 [==============================] - 10s 239ms/step - loss: 0.0155 - acc: 0.9982 - val_loss: 0.6788 - val_acc: 0.8454\n",
            "Epoch 118/200\n",
            "42/42 [==============================] - 11s 271ms/step - loss: 0.0223 - acc: 0.9955 - val_loss: 0.7775 - val_acc: 0.8125\n",
            "Epoch 119/200\n",
            "42/42 [==============================] - 10s 249ms/step - loss: 0.0090 - acc: 0.9993 - val_loss: 0.8352 - val_acc: 0.7993\n",
            "Epoch 120/200\n",
            "42/42 [==============================] - 10s 239ms/step - loss: 0.0079 - acc: 1.0000 - val_loss: 0.9517 - val_acc: 0.7895\n",
            "Epoch 121/200\n",
            "42/42 [==============================] - 11s 260ms/step - loss: 0.0074 - acc: 1.0000 - val_loss: 0.9385 - val_acc: 0.8059\n",
            "Epoch 122/200\n",
            "42/42 [==============================] - 12s 281ms/step - loss: 0.0070 - acc: 1.0000 - val_loss: 0.8083 - val_acc: 0.8250\n",
            "Epoch 123/200\n",
            "42/42 [==============================] - 12s 280ms/step - loss: 0.0071 - acc: 1.0000 - val_loss: 0.9221 - val_acc: 0.8026\n",
            "Epoch 124/200\n",
            "42/42 [==============================] - 11s 265ms/step - loss: 0.0559 - acc: 0.9881 - val_loss: 0.5256 - val_acc: 0.8717\n",
            "Epoch 125/200\n",
            "42/42 [==============================] - 11s 267ms/step - loss: 0.0341 - acc: 0.9918 - val_loss: 0.6275 - val_acc: 0.8520\n",
            "Epoch 126/200\n",
            "42/42 [==============================] - 11s 259ms/step - loss: 0.0193 - acc: 0.9978 - val_loss: 0.6275 - val_acc: 0.8289\n",
            "Epoch 127/200\n",
            "42/42 [==============================] - 11s 260ms/step - loss: 0.0465 - acc: 0.9926 - val_loss: 0.5165 - val_acc: 0.8454\n",
            "Epoch 128/200\n",
            "42/42 [==============================] - 10s 240ms/step - loss: 0.0256 - acc: 0.9933 - val_loss: 1.2138 - val_acc: 0.7599\n",
            "Epoch 129/200\n",
            "42/42 [==============================] - 10s 244ms/step - loss: 0.0347 - acc: 0.9918 - val_loss: 0.9646 - val_acc: 0.7763\n",
            "Epoch 130/200\n",
            "42/42 [==============================] - 10s 250ms/step - loss: 0.0147 - acc: 0.9970 - val_loss: 1.4165 - val_acc: 0.7500\n",
            "Epoch 131/200\n",
            "42/42 [==============================] - 12s 276ms/step - loss: 0.0106 - acc: 1.0000 - val_loss: 0.9937 - val_acc: 0.8257\n",
            "Epoch 132/200\n",
            "42/42 [==============================] - 11s 255ms/step - loss: 0.0112 - acc: 0.9985 - val_loss: 1.6605 - val_acc: 0.7368\n",
            "Epoch 133/200\n",
            "42/42 [==============================] - 11s 265ms/step - loss: 0.0172 - acc: 0.9955 - val_loss: 1.4120 - val_acc: 0.7875\n",
            "Epoch 134/200\n",
            "42/42 [==============================] - 12s 292ms/step - loss: 0.0170 - acc: 0.9985 - val_loss: 1.7837 - val_acc: 0.7270\n",
            "Epoch 135/200\n",
            "42/42 [==============================] - 11s 270ms/step - loss: 0.0093 - acc: 1.0000 - val_loss: 1.2397 - val_acc: 0.7796\n",
            "Epoch 136/200\n",
            "42/42 [==============================] - 12s 283ms/step - loss: 0.0115 - acc: 0.9993 - val_loss: 1.3471 - val_acc: 0.7566\n",
            "Epoch 137/200\n",
            "42/42 [==============================] - 11s 271ms/step - loss: 0.0209 - acc: 0.9940 - val_loss: 1.1604 - val_acc: 0.7928\n",
            "Epoch 138/200\n",
            "42/42 [==============================] - 10s 246ms/step - loss: 0.0149 - acc: 0.9974 - val_loss: 0.8713 - val_acc: 0.8388\n",
            "Epoch 139/200\n",
            "42/42 [==============================] - 12s 282ms/step - loss: 0.0217 - acc: 0.9948 - val_loss: 0.9845 - val_acc: 0.8388\n",
            "Epoch 140/200\n",
            "42/42 [==============================] - 11s 253ms/step - loss: 0.0101 - acc: 0.9993 - val_loss: 1.6808 - val_acc: 0.7500\n",
            "Epoch 141/200\n",
            "42/42 [==============================] - 10s 235ms/step - loss: 0.0202 - acc: 0.9955 - val_loss: 1.3797 - val_acc: 0.7467\n",
            "Epoch 142/200\n",
            "42/42 [==============================] - 11s 273ms/step - loss: 0.0282 - acc: 0.9940 - val_loss: 1.8650 - val_acc: 0.7072\n",
            "Epoch 143/200\n",
            "42/42 [==============================] - 10s 248ms/step - loss: 0.0109 - acc: 0.9993 - val_loss: 1.5180 - val_acc: 0.7434\n",
            "Epoch 144/200\n",
            "42/42 [==============================] - 11s 260ms/step - loss: 0.0184 - acc: 0.9948 - val_loss: 2.5203 - val_acc: 0.6625\n",
            "Epoch 145/200\n",
            "42/42 [==============================] - 12s 291ms/step - loss: 0.0242 - acc: 0.9937 - val_loss: 3.6354 - val_acc: 0.4737\n",
            "Epoch 146/200\n",
            "42/42 [==============================] - 12s 276ms/step - loss: 0.0364 - acc: 0.9903 - val_loss: 2.2825 - val_acc: 0.6875\n",
            "Epoch 147/200\n",
            "42/42 [==============================] - 11s 254ms/step - loss: 0.0351 - acc: 0.9933 - val_loss: 0.8421 - val_acc: 0.7796\n",
            "Epoch 148/200\n",
            "42/42 [==============================] - 10s 243ms/step - loss: 0.0799 - acc: 0.9788 - val_loss: 0.8168 - val_acc: 0.8092\n",
            "Epoch 149/200\n",
            "42/42 [==============================] - 12s 277ms/step - loss: 0.0292 - acc: 0.9930 - val_loss: 1.4040 - val_acc: 0.7928\n",
            "Epoch 150/200\n",
            "42/42 [==============================] - 10s 243ms/step - loss: 0.0241 - acc: 0.9933 - val_loss: 1.8519 - val_acc: 0.7039\n",
            "Epoch 151/200\n",
            "42/42 [==============================] - 11s 258ms/step - loss: 0.0240 - acc: 0.9978 - val_loss: 1.0016 - val_acc: 0.7928\n",
            "Epoch 152/200\n",
            "42/42 [==============================] - 10s 250ms/step - loss: 0.0145 - acc: 0.9985 - val_loss: 0.5911 - val_acc: 0.8783\n",
            "Epoch 153/200\n",
            "42/42 [==============================] - 11s 270ms/step - loss: 0.0092 - acc: 0.9993 - val_loss: 0.5578 - val_acc: 0.8750\n",
            "Epoch 154/200\n",
            "42/42 [==============================] - 10s 234ms/step - loss: 0.0098 - acc: 0.9985 - val_loss: 0.6907 - val_acc: 0.8289\n",
            "Epoch 155/200\n",
            "42/42 [==============================] - 12s 277ms/step - loss: 0.0179 - acc: 0.9970 - val_loss: 1.2337 - val_acc: 0.7438\n",
            "Epoch 156/200\n",
            "42/42 [==============================] - 12s 291ms/step - loss: 0.0086 - acc: 1.0000 - val_loss: 1.1213 - val_acc: 0.7829\n",
            "Epoch 157/200\n",
            "42/42 [==============================] - 11s 268ms/step - loss: 0.0079 - acc: 1.0000 - val_loss: 0.9178 - val_acc: 0.8125\n",
            "Epoch 158/200\n",
            "42/42 [==============================] - 10s 237ms/step - loss: 0.0110 - acc: 0.9978 - val_loss: 0.8391 - val_acc: 0.8289\n",
            "Epoch 159/200\n",
            "42/42 [==============================] - 12s 297ms/step - loss: 0.0133 - acc: 0.9978 - val_loss: 0.8252 - val_acc: 0.8421\n",
            "Epoch 160/200\n",
            "42/42 [==============================] - 10s 241ms/step - loss: 0.0090 - acc: 0.9993 - val_loss: 0.8071 - val_acc: 0.8289\n",
            "Epoch 161/200\n",
            "42/42 [==============================] - 10s 244ms/step - loss: 0.0117 - acc: 0.9985 - val_loss: 0.7243 - val_acc: 0.8388\n",
            "Epoch 162/200\n",
            "42/42 [==============================] - 11s 269ms/step - loss: 0.0115 - acc: 0.9978 - val_loss: 0.7892 - val_acc: 0.8191\n",
            "Epoch 163/200\n",
            "42/42 [==============================] - 10s 234ms/step - loss: 0.0063 - acc: 1.0000 - val_loss: 0.7900 - val_acc: 0.8158\n",
            "Epoch 164/200\n",
            "42/42 [==============================] - 10s 233ms/step - loss: 0.0080 - acc: 0.9993 - val_loss: 1.1692 - val_acc: 0.7599\n",
            "Epoch 165/200\n",
            "42/42 [==============================] - 11s 263ms/step - loss: 0.0275 - acc: 0.9926 - val_loss: 1.0903 - val_acc: 0.7895\n",
            "Epoch 166/200\n",
            "42/42 [==============================] - 12s 280ms/step - loss: 0.0199 - acc: 0.9955 - val_loss: 1.0525 - val_acc: 0.7937\n",
            "Epoch 167/200\n",
            "42/42 [==============================] - 11s 270ms/step - loss: 0.0264 - acc: 0.9940 - val_loss: 0.8174 - val_acc: 0.7993\n",
            "Epoch 168/200\n",
            "42/42 [==============================] - 11s 270ms/step - loss: 0.0306 - acc: 0.9970 - val_loss: 1.2465 - val_acc: 0.7796\n",
            "Epoch 169/200\n",
            "42/42 [==============================] - 11s 256ms/step - loss: 0.0133 - acc: 0.9993 - val_loss: 1.2203 - val_acc: 0.7533\n",
            "Epoch 170/200\n",
            "42/42 [==============================] - 11s 266ms/step - loss: 0.0080 - acc: 1.0000 - val_loss: 1.1868 - val_acc: 0.7763\n",
            "Epoch 171/200\n",
            "42/42 [==============================] - 11s 266ms/step - loss: 0.0437 - acc: 0.9931 - val_loss: 2.7285 - val_acc: 0.5822\n",
            "Epoch 172/200\n",
            "42/42 [==============================] - 10s 239ms/step - loss: 0.0544 - acc: 0.9866 - val_loss: 1.2381 - val_acc: 0.6283\n",
            "Epoch 173/200\n",
            "42/42 [==============================] - 9s 226ms/step - loss: 0.0325 - acc: 0.9933 - val_loss: 0.7529 - val_acc: 0.8125\n",
            "Epoch 174/200\n",
            "42/42 [==============================] - 12s 274ms/step - loss: 0.0192 - acc: 0.9963 - val_loss: 1.3706 - val_acc: 0.7533\n",
            "Epoch 175/200\n",
            "42/42 [==============================] - 11s 261ms/step - loss: 0.0098 - acc: 0.9993 - val_loss: 0.8160 - val_acc: 0.8487\n",
            "Epoch 176/200\n",
            "42/42 [==============================] - 11s 256ms/step - loss: 0.0080 - acc: 1.0000 - val_loss: 0.9060 - val_acc: 0.8322\n",
            "Epoch 177/200\n",
            "42/42 [==============================] - 11s 264ms/step - loss: 0.0124 - acc: 0.9985 - val_loss: 0.5787 - val_acc: 0.8719\n",
            "Epoch 178/200\n",
            "42/42 [==============================] - 12s 288ms/step - loss: 0.0187 - acc: 0.9955 - val_loss: 0.8746 - val_acc: 0.8421\n",
            "Epoch 179/200\n",
            "42/42 [==============================] - 12s 274ms/step - loss: 0.0335 - acc: 0.9926 - val_loss: 1.1425 - val_acc: 0.7697\n",
            "Epoch 180/200\n",
            "42/42 [==============================] - 12s 281ms/step - loss: 0.0186 - acc: 0.9978 - val_loss: 1.9330 - val_acc: 0.6612\n",
            "Epoch 181/200\n",
            "42/42 [==============================] - 11s 250ms/step - loss: 0.0138 - acc: 0.9959 - val_loss: 1.9453 - val_acc: 0.6941\n",
            "Epoch 182/200\n",
            "42/42 [==============================] - 12s 275ms/step - loss: 0.0138 - acc: 0.9978 - val_loss: 1.1852 - val_acc: 0.7697\n",
            "Epoch 183/200\n",
            "42/42 [==============================] - 10s 249ms/step - loss: 0.0227 - acc: 0.9963 - val_loss: 0.7879 - val_acc: 0.7961\n",
            "Epoch 184/200\n",
            "42/42 [==============================] - 11s 264ms/step - loss: 0.0181 - acc: 0.9978 - val_loss: 1.2819 - val_acc: 0.7467\n",
            "Epoch 185/200\n",
            "42/42 [==============================] - 10s 230ms/step - loss: 0.0135 - acc: 0.9978 - val_loss: 1.1892 - val_acc: 0.7434\n",
            "Epoch 186/200\n",
            "42/42 [==============================] - 10s 249ms/step - loss: 0.0112 - acc: 0.9993 - val_loss: 1.2355 - val_acc: 0.7730\n",
            "Epoch 187/200\n",
            "42/42 [==============================] - 12s 274ms/step - loss: 0.0104 - acc: 0.9985 - val_loss: 1.6970 - val_acc: 0.7204\n",
            "Epoch 188/200\n",
            "42/42 [==============================] - 10s 238ms/step - loss: 0.0077 - acc: 1.0000 - val_loss: 1.2517 - val_acc: 0.7750\n",
            "Epoch 189/200\n",
            "42/42 [==============================] - 13s 309ms/step - loss: 0.0062 - acc: 1.0000 - val_loss: 1.1012 - val_acc: 0.7763\n",
            "Epoch 190/200\n",
            "42/42 [==============================] - 11s 255ms/step - loss: 0.0059 - acc: 1.0000 - val_loss: 1.0268 - val_acc: 0.8026\n",
            "Epoch 191/200\n",
            "42/42 [==============================] - 11s 264ms/step - loss: 0.0067 - acc: 1.0000 - val_loss: 1.3792 - val_acc: 0.7730\n",
            "Epoch 192/200\n",
            "42/42 [==============================] - 11s 253ms/step - loss: 0.0070 - acc: 0.9993 - val_loss: 0.9637 - val_acc: 0.8257\n",
            "Epoch 193/200\n",
            "42/42 [==============================] - 10s 247ms/step - loss: 0.0063 - acc: 1.0000 - val_loss: 1.0769 - val_acc: 0.7961\n",
            "Epoch 194/200\n",
            "42/42 [==============================] - 11s 257ms/step - loss: 0.0191 - acc: 0.9956 - val_loss: 0.9013 - val_acc: 0.8224\n",
            "Epoch 195/200\n",
            "42/42 [==============================] - 12s 287ms/step - loss: 0.0249 - acc: 0.9948 - val_loss: 1.1496 - val_acc: 0.7401\n",
            "Epoch 196/200\n",
            "42/42 [==============================] - 9s 220ms/step - loss: 0.0210 - acc: 0.9940 - val_loss: 1.2842 - val_acc: 0.7237\n",
            "Epoch 197/200\n",
            "42/42 [==============================] - 11s 255ms/step - loss: 0.0152 - acc: 0.9970 - val_loss: 1.3985 - val_acc: 0.7533\n",
            "Epoch 198/200\n",
            "42/42 [==============================] - 10s 242ms/step - loss: 0.0084 - acc: 0.9993 - val_loss: 1.2309 - val_acc: 0.7664\n",
            "Epoch 199/200\n",
            "42/42 [==============================] - 12s 281ms/step - loss: 0.0068 - acc: 1.0000 - val_loss: 1.1840 - val_acc: 0.7875\n",
            "Epoch 200/200\n",
            "42/42 [==============================] - 13s 311ms/step - loss: 0.0071 - acc: 0.9993 - val_loss: 1.2204 - val_acc: 0.7829\n"
          ],
          "name": "stdout"
        }
      ]
    },
    {
      "cell_type": "code",
      "metadata": {
        "id": "WpfRNJX04ykF",
        "colab_type": "code",
        "outputId": "1fc671d6-c17e-46ec-919b-2848e1407ad2",
        "colab": {
          "base_uri": "https://localhost:8080/",
          "height": 573
        }
      },
      "source": [
        "import matplotlib.pyplot as plt\n",
        "plt.plot(history.history['acc'])\n",
        "plt.plot(history.history['val_acc'])\n",
        "plt.title('Model accuracy')\n",
        "plt.ylabel('Accuracy')\n",
        "plt.xlabel('Epoch')\n",
        "plt.legend(['Train', 'Test'], loc='upper left')\n",
        "plt.show()\n",
        "\n",
        "plt.plot(history.history['loss'])\n",
        "plt.plot(history.history['val_loss'])\n",
        "plt.title('Model loss')\n",
        "plt.ylabel('Loss')\n",
        "plt.xlabel('Epoch')\n",
        "plt.legend(['Train', 'Test'], loc='upper left')\n",
        "plt.show()"
      ],
      "execution_count": 0,
      "outputs": [
        {
          "output_type": "display_data",
          "data": {
            "image/png": "[encoded data removed]",
            "text/plain": [
              "<Figure size 432x288 with 1 Axes>"
            ]
          },
          "metadata": {
            "tags": []
          }
        },
        {
          "output_type": "display_data",
          "data": {
            "image/png": "[encoded data removed]",
            "text/plain": [
              "<Figure size 432x288 with 1 Axes>"
            ]
          },
          "metadata": {
            "tags": []
          }
        }
      ]
    },
    {
      "cell_type": "code",
      "metadata": {
        "id": "ifhjS19TIYe0",
        "colab_type": "code",
        "colab": {}
      },
      "source": [
        "model.save_weights(\"model.h5\")"
      ],
      "execution_count": 0,
      "outputs": []
    },
    {
      "cell_type": "code",
      "metadata": {
        "id": "AniQJaHHwVkE",
        "colab_type": "code",
        "colab": {}
      },
      "source": [
        "saved_model=\"/content/DS19-DamageCarClassification/path_to_the_last_checkpoint_file.h5\"\n",
        "# (or)\n",
        "#Access the last checkpoint file as final model\n",
        "saved_model=\"/content/checkpoint-025.h5\""
      ],
      "execution_count": 0,
      "outputs": []
    },
    {
      "cell_type": "code",
      "metadata": {
        "id": "Q8NgHq2HvCwT",
        "colab_type": "code",
        "outputId": "b1a3507a-73ad-4391-e788-9ae0c18bcc81",
        "colab": {
          "base_uri": "https://localhost:8080/",
          "height": 34
        }
      },
      "source": [
        "def predict(model, img):\n",
        "    x = image.img_to_array(img)\n",
        "    x = np.expand_dims(x, axis=0)\n",
        "    x = preprocess_input(x)\n",
        "    preds = model.predict(x)\n",
        "    return preds[0]..\n",
        "\n",
        "labels = (\"Bumper_Damage\",\"Door_Damage\",\"Glass_Damage\")\n",
        "model = load_model(saved_model)\n",
        "img = image.load_img('/content/DS19-DamageCarClassification/testing/bumper/0048.JPEG', target_size=(224,224))\n",
        "preds = predict(model, img)\n",
        "j=max(preds)\n",
        "result = np.where(preds == j)\n",
        "index_val = result[0][0]\n",
        "prediction = labels[index_val]\n",
        "print(\"Result:\",prediction)"
      ],
      "execution_count": 0,
      "outputs": [
        {
          "output_type": "stream",
          "text": [
            "Result: Bumper_Damage\n"
          ],
          "name": "stdout"
        }
      ]
    }
  ]
}